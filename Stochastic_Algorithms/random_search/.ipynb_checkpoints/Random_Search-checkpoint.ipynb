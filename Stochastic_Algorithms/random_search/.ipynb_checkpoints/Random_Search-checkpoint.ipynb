{
 "cells": [
  {
   "cell_type": "code",
   "execution_count": 1,
   "metadata": {},
   "outputs": [
    {
     "name": "stderr",
     "output_type": "stream",
     "text": [
      "Using TensorFlow backend.\n"
     ]
    }
   ],
   "source": [
    "#!/usr/bin/env python3\n",
    "# -*- coding: utf-8 -*-\n",
    "\"\"\"\n",
    "Created on Fri Nov  1 11:56:59 2019\n",
    "\n",
    "@author: arsalan/\n",
    "\"\"\"\n",
    "import numpy as np \n",
    "import matplotlib.pyplot as plt \n",
    "from random import random, uniform\n",
    "import pandas as pd\n",
    "import keras\n",
    "import sklearn\n",
    "\n"
   ]
  },
  {
   "cell_type": "code",
   "execution_count": 2,
   "metadata": {},
   "outputs": [
    {
     "name": "stdout",
     "output_type": "stream",
     "text": [
      "WARNING:tensorflow:From C:\\Users\\Arsalan Ahmed\\AppData\\Local\\Continuum\\anaconda3\\envs\\python\\lib\\site-packages\\keras\\backend\\tensorflow_backend.py:74: The name tf.get_default_graph is deprecated. Please use tf.compat.v1.get_default_graph instead.\n",
      "\n",
      "WARNING:tensorflow:From C:\\Users\\Arsalan Ahmed\\AppData\\Local\\Continuum\\anaconda3\\envs\\python\\lib\\site-packages\\keras\\backend\\tensorflow_backend.py:517: The name tf.placeholder is deprecated. Please use tf.compat.v1.placeholder instead.\n",
      "\n",
      "WARNING:tensorflow:From C:\\Users\\Arsalan Ahmed\\AppData\\Local\\Continuum\\anaconda3\\envs\\python\\lib\\site-packages\\keras\\backend\\tensorflow_backend.py:4138: The name tf.random_uniform is deprecated. Please use tf.random.uniform instead.\n",
      "\n",
      "WARNING:tensorflow:From C:\\Users\\Arsalan Ahmed\\AppData\\Local\\Continuum\\anaconda3\\envs\\python\\lib\\site-packages\\keras\\backend\\tensorflow_backend.py:133: The name tf.placeholder_with_default is deprecated. Please use tf.compat.v1.placeholder_with_default instead.\n",
      "\n",
      "WARNING:tensorflow:From C:\\Users\\Arsalan Ahmed\\AppData\\Local\\Continuum\\anaconda3\\envs\\python\\lib\\site-packages\\keras\\backend\\tensorflow_backend.py:3445: calling dropout (from tensorflow.python.ops.nn_ops) with keep_prob is deprecated and will be removed in a future version.\n",
      "Instructions for updating:\n",
      "Please use `rate` instead of `keep_prob`. Rate should be set to `rate = 1 - keep_prob`.\n",
      "WARNING:tensorflow:From C:\\Users\\Arsalan Ahmed\\AppData\\Local\\Continuum\\anaconda3\\envs\\python\\lib\\site-packages\\keras\\backend\\tensorflow_backend.py:174: The name tf.get_default_session is deprecated. Please use tf.compat.v1.get_default_session instead.\n",
      "\n",
      "WARNING:tensorflow:From C:\\Users\\Arsalan Ahmed\\AppData\\Local\\Continuum\\anaconda3\\envs\\python\\lib\\site-packages\\keras\\optimizers.py:790: The name tf.train.Optimizer is deprecated. Please use tf.compat.v1.train.Optimizer instead.\n",
      "\n",
      "WARNING:tensorflow:From C:\\Users\\Arsalan Ahmed\\AppData\\Local\\Continuum\\anaconda3\\envs\\python\\lib\\site-packages\\tensorflow\\python\\ops\\math_grad.py:1250: add_dispatch_support.<locals>.wrapper (from tensorflow.python.ops.array_ops) is deprecated and will be removed in a future version.\n",
      "Instructions for updating:\n",
      "Use tf.where in 2.0, which has the same broadcast rule as np.where\n"
     ]
    }
   ],
   "source": [
    "from keras.models import load_model\n",
    "model = load_model('regression.h5')"
   ]
  },
  {
   "cell_type": "code",
   "execution_count": 3,
   "metadata": {},
   "outputs": [],
   "source": [
    "test_bench = pd.read_csv(\"test_data.csv\",header=None)"
   ]
  },
  {
   "cell_type": "code",
   "execution_count": 4,
   "metadata": {},
   "outputs": [],
   "source": [
    "x_ = test_bench.iloc[:,0:2].to_numpy()\n",
    "x_ = np.expand_dims(x_,2)\n",
    "y_ = test_bench.iloc[:,2].to_numpy()"
   ]
  },
  {
   "cell_type": "code",
   "execution_count": 5,
   "metadata": {},
   "outputs": [],
   "source": [
    "out = model.predict(x_[0:1,:,:])"
   ]
  },
  {
   "cell_type": "code",
   "execution_count": 6,
   "metadata": {},
   "outputs": [
    {
     "data": {
      "text/plain": [
       "0.574383"
      ]
     },
     "execution_count": 6,
     "metadata": {},
     "output_type": "execute_result"
    }
   ],
   "source": [
    "out[0][0]"
   ]
  },
  {
   "cell_type": "code",
   "execution_count": null,
   "metadata": {},
   "outputs": [],
   "source": []
  },
  {
   "cell_type": "code",
   "execution_count": null,
   "metadata": {},
   "outputs": [],
   "source": []
  },
  {
   "cell_type": "code",
   "execution_count": 7,
   "metadata": {},
   "outputs": [],
   "source": [
    "def objective_function(x_input):\n",
    "    x_input = np.expand_dims(np.expand_dims(np.array(x_input),0),2)\n",
    "    out = model.predict(x_input)\n",
    "    return out[0][0]\n",
    "\n",
    "def random_vector(search_space):\n",
    "    x1 = search_space[0]\n",
    "    x2 = search_space[1]\n",
    "    x1_ = uniform(min(x1), max(x1))\n",
    "    x2_ = uniform(min(x2), max(x2))\n",
    "    return [x1_,x2_]\n",
    "def distance(targ,pred):\n",
    "    return abs(targ-pred)\n",
    "def search(search_space,max_iter,target):\n",
    "    best = None\n",
    "    dis = 1.1 # assuming max difference never exceeds one\n",
    "    for i in range(0,max_iter):\n",
    "        candidate = {}\n",
    "        candidate['vector'] = random_vector(search_space)\n",
    "        candidate['cost'] = objective_function(candidate['vector'])\n",
    "        curr_dis = distance(candidate['cost'],target)\n",
    "        if  curr_dis < dis:\n",
    "            best = [candidate['vector'],candidate['cost']]\n",
    "            dis = curr_dis\n",
    "            print(dis)\n",
    "            print(best)\n",
    "            print('\\n')\n",
    "    return best\n",
    "\n"
   ]
  },
  {
   "cell_type": "code",
   "execution_count": 8,
   "metadata": {},
   "outputs": [
    {
     "name": "stdout",
     "output_type": "stream",
     "text": [
      "0.02517661302722579\n",
      "[[0.318192772840425, 0.11305340736527492], 0.27178848]\n",
      "\n",
      "\n",
      "0.0011577025111805805\n",
      "[[0.20500292824454514, 0.4327541644303279], 0.24545416]\n",
      "\n",
      "\n",
      "0.0006858393493998638\n",
      "[[0.2652214674605424, 0.16277665274411535], 0.2472977]\n",
      "\n",
      "\n",
      "0.0005291566308628926\n",
      "[[0.29097735641599054, 0.03688042858958185], 0.24608271]\n",
      "\n",
      "\n",
      "0.00026588291488999216\n",
      "[[0.1249915890677753, 0.7301444902599938], 0.24634598]\n",
      "\n",
      "\n",
      "[[0.1249915890677753, 0.7301444902599938], 0.24634598]\n"
     ]
    }
   ],
   "source": [
    "# lets take a target index from our test dataset\n",
    "n = 1000\n",
    "x_test = x_[n:n+1,:,:]\n",
    "y_test = y_[n]\n",
    "x_test,y_test\n",
    "search_space = [[0,1],[0,1]]\n",
    "max_iter = 1000\n",
    "\n",
    "best = search(search_space,max_iter,y_test)\n",
    "print(best)"
   ]
  },
  {
   "cell_type": "code",
   "execution_count": 9,
   "metadata": {},
   "outputs": [
    {
     "data": {
      "text/plain": [
       "(array([[[0.24525078],\n",
       "         [0.24558054]]]), 0.24661186487041825)"
      ]
     },
     "execution_count": 9,
     "metadata": {},
     "output_type": "execute_result"
    }
   ],
   "source": [
    "x_test,y_test"
   ]
  },
  {
   "cell_type": "code",
   "execution_count": 10,
   "metadata": {},
   "outputs": [
    {
     "data": {
      "text/plain": [
       "array([[0.24787982]], dtype=float32)"
      ]
     },
     "execution_count": 10,
     "metadata": {},
     "output_type": "execute_result"
    }
   ],
   "source": [
    "model.predict(x_test)"
   ]
  },
  {
   "cell_type": "code",
   "execution_count": null,
   "metadata": {},
   "outputs": [],
   "source": []
  }
 ],
 "metadata": {
  "kernelspec": {
   "display_name": "Python [conda env:python] *",
   "language": "python",
   "name": "conda-env-python-py"
  },
  "language_info": {
   "codemirror_mode": {
    "name": "ipython",
    "version": 3
   },
   "file_extension": ".py",
   "mimetype": "text/x-python",
   "name": "python",
   "nbconvert_exporter": "python",
   "pygments_lexer": "ipython3",
   "version": "3.7.3"
  }
 },
 "nbformat": 4,
 "nbformat_minor": 2
}
