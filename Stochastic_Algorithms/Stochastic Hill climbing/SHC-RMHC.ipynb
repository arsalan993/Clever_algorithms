{
 "cells": [
  {
   "cell_type": "markdown",
   "metadata": {},
   "source": [
    "# Random Mutation Hill Climbing"
   ]
  },
  {
   "cell_type": "code",
   "execution_count": 56,
   "metadata": {},
   "outputs": [],
   "source": [
    "#!/usr/bin/env python3\n",
    "# -*- coding: utf-8 -*-\n",
    "\"\"\"\n",
    "Created on Fri Nov  1 11:56:59 2019\n",
    "\n",
    "@author: arsalan/\n",
    "\"\"\"\n",
    "import numpy as np \n",
    "import matplotlib.pyplot as plt \n",
    "from random import random, uniform\n",
    "import pandas as pd\n",
    "import keras\n",
    "import sklearn\n",
    "import random\n",
    "random.seed(3)"
   ]
  },
  {
   "cell_type": "code",
   "execution_count": 57,
   "metadata": {},
   "outputs": [],
   "source": [
    "from keras.models import load_model\n",
    "model = load_model('regression.h5')"
   ]
  },
  {
   "cell_type": "code",
   "execution_count": 58,
   "metadata": {},
   "outputs": [],
   "source": [
    "test_bench = pd.read_csv(\"test_data.csv\",header=None)"
   ]
  },
  {
   "cell_type": "code",
   "execution_count": 59,
   "metadata": {},
   "outputs": [],
   "source": [
    "x_ = test_bench.iloc[:,0:2].to_numpy()\n",
    "x_ = np.expand_dims(x_,2)\n",
    "y_ = test_bench.iloc[:,2].to_numpy()"
   ]
  },
  {
   "cell_type": "code",
   "execution_count": 60,
   "metadata": {},
   "outputs": [],
   "source": [
    "def objective_function(x_input):\n",
    "    x_input = np.expand_dims(np.expand_dims(np.array(x_input),0),2)\n",
    "    out = model.predict(x_input)\n",
    "    return out[0][0]\n",
    "\n",
    "def distance(targ,pred):\n",
    "    return abs(targ-pred)\n",
    "\n",
    "def random_value(val):\n",
    "    return uniform(val[0],val[1])\n",
    "    \n",
    "def random_neighbour(state,step):\n",
    "    return np.array(state)-step\n"
   ]
  },
  {
   "cell_type": "code",
   "execution_count": 61,
   "metadata": {},
   "outputs": [],
   "source": [
    "small_step = (0.001,0.008)\n",
    "large_step = (0.009,0.099)\n",
    "max_iter_stop = 100\n",
    "iteration = 3000"
   ]
  },
  {
   "cell_type": "code",
   "execution_count": 62,
   "metadata": {},
   "outputs": [],
   "source": [
    "#initial state\n",
    "n = 600\n",
    "x_test = x_[n:n+1,:,:]\n",
    "y_test = model.predict(x_test)\n",
    "x_test,y_test\n",
    "curr_in_state = [x_test[0][0][0],x_test[0][1][0]]\n",
    "curr_out_state = y_test[0][0]"
   ]
  },
  {
   "cell_type": "code",
   "execution_count": 63,
   "metadata": {},
   "outputs": [],
   "source": [
    "#target state\n",
    "n = 1000\n",
    "x_t = x_[n:n+1,:,:]\n",
    "y_t = model.predict(x_t)\n",
    "x_t,y_t\n",
    "tar_in_state = [x_t[0][0][0],x_t[0][1][0]]\n",
    "tar_out_state = y_t[0][0]"
   ]
  },
  {
   "cell_type": "code",
   "execution_count": 65,
   "metadata": {},
   "outputs": [
    {
     "name": "stdout",
     "output_type": "stream",
     "text": [
      "iteration #  1 [0.1957167711831182, 0.19042962993781018] 0.04731922 0.19059241\n",
      "iteration #  2 [0.19906416003460992, 0.1903554287930465] 0.044345245 0.19356638\n",
      "iteration #  3 [0.2009317984006071, 0.19196152118470197] 0.042517945 0.19539368\n",
      "iteration #  5 [0.20310858347937577, 0.18815682823189653] 0.04106711 0.19684452\n",
      "iteration #  8 [0.20415627231538466, 0.18623459593809125] 0.04038593 0.1975257\n",
      "iteration #  9 [0.20587345481534094, 0.184516798174575] 0.039119616 0.19879201\n",
      "iteration #  10 [0.21057158417222835, 0.17960842449768033] 0.035975263 0.20193636\n",
      "iteration #  11 [0.21302997262164325, 0.18327498746775792] 0.033746988 0.20416464\n",
      "iteration #  12 [0.21813539952103006, 0.17945380436936367] 0.030653939 0.20725769\n",
      "iteration #  15 [0.2215462203666023, 0.17433958332172048] 0.029015422 0.2088962\n",
      "iteration #  16 [0.22536713147071033, 0.1671364848896675] 0.02736874 0.21054289\n",
      "iteration #  18 [0.22733439754935478, 0.16740066238076007] 0.026118606 0.21179302\n",
      "iteration #  20 [0.22678777258578833, 0.17076721737778183] 0.026106507 0.21180512\n",
      "iteration #  22 [0.2297189373952973, 0.17273829183410144] 0.024098009 0.21381362\n",
      "iteration #  26 [0.2327240937539536, 0.1755376149431755] 0.021985754 0.21592587\n",
      "iteration #  27 [0.2340716820723411, 0.1759062831646083] 0.021136835 0.21677479\n",
      "iteration #  30 [0.23781771322657405, 0.18100710083301172] 0.018400058 0.21951157\n",
      "iteration #  34 [0.23845326731629224, 0.1867571064313166] 0.017468035 0.22044359\n",
      "iteration #  36 [0.24600181446698993, 0.18802179493608406] 0.012991264 0.22492036\n",
      "iteration #  39 [0.2457443599005979, 0.1916336594824239] 0.012755245 0.22515638\n",
      "iteration #  41 [0.24803650697189725, 0.18872539955997944] 0.01145418 0.22645745\n",
      "iteration #  46 [0.2510311163849529, 0.18776931201654998] 0.009053528 0.2288581\n",
      "iteration #  47 [0.2540897103801684, 0.18251320404063887] 0.007684231 0.2302274\n",
      "iteration #  49 [0.2611807510891678, 0.17647914826110497] 0.0030159354 0.23489569\n",
      "iteration #  51 [0.26872485535107915, 0.16874914934527274] 0.0015459806 0.2394576\n",
      "iteration #  55 [0.26544616028791096, 0.1723079145546679] 0.00037647784 0.23753515\n",
      "iteration #  65 [0.2652070674318462, 0.17322462108662393] 0.00035132468 0.2375603\n",
      "iteration #  70 [0.2651450488841891, 0.17438464871371467] 0.00011219084 0.23779944\n",
      "iteration #  74 [0.26442845879039295, 0.17724997095295994] 9.179115e-06 0.23790245\n",
      "iteration #  105 [0.2650491149060082, 0.17513504919903577] 5.826354e-06 0.2379058\n",
      "iteration #  1355 [0.2655245890944444, 0.17354994091568268] 4.7534704e-06 0.23791638\n",
      "iteration #  1406 [0.26556198539685977, 0.17339710524806592] 1.5646219e-06 0.23791006\n",
      "iteration #  2357 [0.26574056401352153, 0.17279437812399137] 3.2782555e-07 0.23791195\n",
      "best state :  [0.26574056401352153, 0.17279437812399137]  near output :  0.23791195\n",
      "target state :  [0.2452507808576829, 0.2455805362450965] target output :  0.23791163\n"
     ]
    }
   ],
   "source": [
    "best_state = curr_in_state\n",
    "best_cost  = distance(curr_out_state,tar_out_state)\n",
    "best_out = None\n",
    "for iter_ in range(iteration):\n",
    "    curr_state = []\n",
    "    curr_cost = None\n",
    "    output = None\n",
    "    if iter_% max_iter_stop == 0 :\n",
    "        step = random_value(large_step)\n",
    "    else:\n",
    "        step = random_value(small_step)\n",
    "   \n",
    "    neighborhood = [[best_state[0]-step,best_state[0]+step],[best_state[1]-step,best_state[1]+step]] \n",
    "    curr_state = [random_value(neighborhood[0]),random_value(neighborhood[1])]\n",
    "    output = objective_function(curr_state)\n",
    "    curr_cost = distance(tar_out_state,output)\n",
    "    if curr_cost < best_cost:\n",
    "        best_cost = curr_cost\n",
    "        best_state = curr_state\n",
    "        best_out = output\n",
    "        print(\"iteration # \",iter_, best_state,best_cost,best_out)\n",
    "    \n",
    "print(\"best state : \",best_state,\" near output : \",best_out)\n",
    "print(\"target state : \",tar_in_state,\"target output : \",tar_out_state)"
   ]
  },
  {
   "cell_type": "code",
   "execution_count": null,
   "metadata": {},
   "outputs": [],
   "source": []
  }
 ],
 "metadata": {
  "kernelspec": {
   "display_name": "Python [conda env:test] *",
   "language": "python",
   "name": "conda-env-test-py"
  },
  "language_info": {
   "codemirror_mode": {
    "name": "ipython",
    "version": 3
   },
   "file_extension": ".py",
   "mimetype": "text/x-python",
   "name": "python",
   "nbconvert_exporter": "python",
   "pygments_lexer": "ipython3",
   "version": "3.6.9"
  }
 },
 "nbformat": 4,
 "nbformat_minor": 2
}
